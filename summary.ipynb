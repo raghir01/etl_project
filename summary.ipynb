{
 "cells": [
  {
   "cell_type": "code",
   "execution_count": 27,
   "metadata": {},
   "outputs": [],
   "source": [
    "import pymongo\n",
    "import pandas as pd\n",
    "conn = 'mongodb://localhost:27017'\n",
    "client = pymongo.MongoClient(conn)\n",
    "db = client.job_data\n",
    "job_collection = db.job_collection\n",
    "population = db.population\n",
    "universities = db.universities"
   ]
  },
  {
   "cell_type": "code",
   "execution_count": 118,
   "metadata": {},
   "outputs": [],
   "source": [
    "job_df = pd.DataFrame(list(job_collection.find()))\n",
    "population_df = pd.DataFrame(list(population.find()))\n",
    "universities_df = pd.DataFrame(list(universities.find()))\n",
    "job_df = job_df[job_df.title.str.contains(\"Scientist\")]\n",
    "grp_job = job_df.groupby([\"state\"]).count()\n",
    "grp_job = grp_job.reset_index()\n",
    "grp_job = grp_job.rename(columns={\"_id\": \"job_count\"})\n",
    "grp_job = grp_job[[\"state\", \"job_count\"]]\n",
    "population_df.to_excel(\"population.xls\", \"population\")\n",
    "universities_df.to_excel(\"universities.xls\", sheet_name=\"universities\")\n",
    "job_df.to_excel(\"jobs.xls\", sheet_name=\"jobs\")\n",
    "\n",
    "universities_grp = universities_df.groupby(\"State\").count()\n",
    "universities_grp = universities_grp.reset_index()\n",
    "universities_grp = universities_grp.rename(columns={\"_id\": \"university_count\", \"State\": \"state\"})\n",
    "universities_grp = universities_grp[[\"state\", \"university_count\"]]\n",
    "population_df = population_df[[\"Population\", \"State\"]]\n",
    "population_df = population_df.rename(columns={\"State\": \"state\"})\n",
    "population_df['Population'] = population_df['Population'].str.replace(',', '')\n",
    "population_df['state'] = population_df['state'].apply(lambda x: x.strip())\n",
    "population_df['Population'] = population_df['Population'].apply(lambda x: int(x))\n",
    "population_df = population_df.set_index(\"state\")\n",
    "grp_job = grp_job.set_index(\"state\")\n",
    "universities_grp = universities_grp.set_index(\"state\")\n",
    "summary = grp_job.join(population_df).join(universities_grp).dropna()\n",
    "summary.to_excel(\"summary.xls\", sheet_name=\"summary\")\n"
   ]
  },
  {
   "cell_type": "code",
   "execution_count": null,
   "metadata": {},
   "outputs": [],
   "source": []
  }
 ],
 "metadata": {
  "kernelspec": {
   "display_name": "Python 3",
   "language": "python",
   "name": "python3"
  },
  "language_info": {
   "codemirror_mode": {
    "name": "ipython",
    "version": 3
   },
   "file_extension": ".py",
   "mimetype": "text/x-python",
   "name": "python",
   "nbconvert_exporter": "python",
   "pygments_lexer": "ipython3",
   "version": "3.7.0"
  }
 },
 "nbformat": 4,
 "nbformat_minor": 2
}
